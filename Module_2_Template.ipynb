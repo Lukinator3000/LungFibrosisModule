{
 "cells": [
  {
   "cell_type": "markdown",
   "id": "07d08828-39be-453d-9c15-7d0737ceb72f",
   "metadata": {},
   "source": [
    "## Module 2:\n",
    "\n",
    "## Team Members:\n",
    "*Jaya Kinley and Luke Shee*\n",
    "\n",
    "## Project Title:\n",
    "*Depth-Based Prediction of Lung Fibrosis Using Image Analysis*\n",
    "\n"
   ]
  },
  {
   "cell_type": "markdown",
   "id": "8372d796-186a-4ae2-9b4f-0065979e555a",
   "metadata": {},
   "source": [
    "## Project Goal:\n",
    "This project seeks to to create an image analysis system that can predict how much lung fibrosis is present at different biopsy depths. This will help support the design of a new lung biopsy device that can better detect early signs of fibrosis in people affected by vaping."
   ]
  },
  {
   "attachments": {},
   "cell_type": "markdown",
   "id": "91408b75-185a-4d66-9ce7-7c7aabbde5e1",
   "metadata": {
    "jp-MarkdownHeadingCollapsed": true
   },
   "source": [
    "## Disease Background: \n",
    "*Fill in information and please note that this module is truncated and only has 5 bullets (instead of the 11 that you did for Module #1).*\n",
    "\n",
    "### Prevalence & incidence \n",
    "(Source: https://medlineplus.gov/genetics/condition/idiopathic-pulmonary-fibrosis/#frequency and https://respiratory-research.biomedcentral.com/articles/10.1186/s12931-021-01791-z#citeas)\n",
    "  - **Prevalence**: Globally, It’s predicted that every 13-20 people out of 100,000 have idiopathic pulmonary fibrosis, generally making the condition rare.\n",
    "    - It’s estimated by MedlinePlus ~100,000 people in the U.S. have idiopathic pulmonary fibrosis. Other sources, however, calculate different values for the prevalence in America, like a study from Maher et al. (the 2nd source) estimating that 2.4 out of 10,000 Americans have idiopathic pulmonary fibrosis (totally up to around 81,600 cases currently).\n",
    "  - **Incidence**: Every year, 30 to 40 thousand newly diagnosed cases for idiopathic pulmonary fibrosis occur.\n",
    "\n",
    "### Risk factors (genetic, lifestyle) \n",
    "(Sources: https://www.pulmonaryfibrosis.org/understanding-pff/types-of-pulmonary-fibrosis/idiopathic-pulmonary-fibrosis and https://www.youtube.com/watch?v=Z6_0WkceY88)\n",
    "  - Some general risk factors may include being male and/or growing to an old age, as well as the lifestyle risk factor of smoking.\n",
    "    - While not as certain as the aforementioned risk factors, external exposures to air pollution or viral infection may also correlate to idiopathic pulmonary fibrosis diagnosis.  \n",
    "  - Concerning genetic risk factors, people who inherited genes, including “MUC5B, TERT, TERC, DKC1, RTEL1, AKAP13, DSP, FAM13A, DPP9, and TOLLIP,” may have a higher chance of getting pulmonary fibrosis.\n",
    "\n",
    "### Symptoms \n",
    "(Source: https://www.mayoclinic.org/diseases-conditions/pulmonary-fibrosis/symptoms-causes/syc-20353690)\n",
    "  - Shortness of breath\n",
    "  - Dry cough\n",
    "  - Extreme tiredness\n",
    "  - Weight loss that's not intended\n",
    "  - Aching muscles and joints\n",
    "  - Widening and rounding of the tips of the fingers or toes, called clubbing\n",
    "    \n",
    "### Standard of care treatment(s) \n",
    "(Sources: https://www.mayoclinic.org/diseases-conditions/pulmonary-fibrosis/diagnosis-treatment/drc-20353695 and https://www.lung.org/lung-health-diseases/lung-disease-lookup/pulmonary-fibrosis/patients/how-is-pulmonary-fibrosis-treated/medications)\n",
    "  - Lung scarring and thickening that occurs in pulmonary fibraosi cannot be repaired\n",
    "  - no treatment has proved effective in stopping disease from worsening\n",
    "  - treatments that improve symptoms/slow progression/imprve quality of life\n",
    "    - **medicines**: pirfenidone (Esbriet) or nintedanib (Ofeb): anti-fibrotic agents, may help slow worsening of fibrosis and may prevent bouts of aggressive symptom onset\n",
    "    - **other medicines**: drugs to reduce inflammation (e.g. steroids), drugs to treat acid reflux (commonly occurs in people with pulmonary fibrosis), drugs to treat cough\n",
    "    - **oxygen therapy**: makes breathing/exercise easier, prevents/lessens complications from low blood oxygen levels, lessens strain on right side of heart, improves sleep\n",
    "    - **pulmonary rehibilitation**: physical exercise to improve daily function, breathing techniques improving lung efficiency, nutritional counseling, emotional counseling\n",
    "    - **lung transplant**: can improve quality/length of life, can involve complications (rejection or infection), requires lifelong medicinal treatment following transplant  \n",
    "\n",
    "\n",
    "### Biological mechanisms (anatomy, organ physiology, cell & molecular physiology) \n",
    "(Sources: https://www.youtube.com/watch?v=Z6_0WkceY88 and https://www.youtube.com/watch?v=s2owdwl5VacLinks)\n",
    "  - normally, tissue of alveoli is soft and flexible, allowing easy breathing and O2 exchange between alveoli and capillaries\n",
    "  - in IPF, tissue forms scarring, which impairs the lungs' ability to absorb O2 and function normally\n",
    "  - excess collagen (scar tissue) in interstatial tissue of the \n",
    "  - leads to progressive loss of scar tissue \n",
    "  - anatomy of alveoli\n",
    "    - type 1 epithelial cells (pneymocytes): squamous cells, near continupus barrier between air and connective tissue\n",
    "    - type 2 pneymocytes: studded throughout type 1, shaped like cubes, have microvilli, secrete surfactant (prevent alveoli from collapsing during exhilation), can divide and make more type 2 or type 1 pneumocytes\n",
    "  - interstatial tissue\n",
    "    - has macrophages and fibroblasts\n",
    "    - between type 2 pneumocytes and capillaries\n",
    "  - when alveolar lining damaged, proliferation of fibroblassts to myofibroblasts stimulated --> secrete reticular and elastic fibers\n",
    "  - myofibroblasts undergo apoptosis (programmed cell death)\n",
    "  - once process is triggered, type 2 pneumocytes over-proliferate during repair process --> too many myofibroblasts and too much collagen\n",
    "  - myofibroblasts don't undergo apoptosis proberly and continue to produce more collagen\n",
    "  - collagen accumulates and thickens interstatial layer --> problems with ventilation and oxygenation, causes lungs to become stiff\n",
    "  - excess collagen leads to loss of alveoli, creating cysts surrounded by thick walls (honeycombing)"
   ]
  },
  {
   "cell_type": "markdown",
   "id": "3b99aefb-cb03-4bd8-b972-437eb0e02dfe",
   "metadata": {},
   "source": [
    "## Data-Set: \n",
    "The dataset used in this project consists of lung biopsy mask images taken at different tissue depths, measured in microns. Each image represents a cross-section of lung tissue stained to highlight areas of fibrosis. The white regions in the images correspond to fibrotic tissue, while the black regions represent healthy lung areas. These images were collected using histological imaging techniques similar to those described in biomedical imaging studies such as the SEA-AD dataset from the BRAIN Initiative. The data provide a way to analyze how the amount of fibrosis changes with depth in the lung."
   ]
  },
  {
   "cell_type": "markdown",
   "id": "f4cde622-5508-4a54-aba8-77b454138bff",
   "metadata": {},
   "source": [
    "## Data Analyis: \n",
    "This code analyzes a set of lung biopsy mask images to estimate the amount of fibrotic tissue at different depths in the lung. It loads each image, counts the number of black and white pixels, and calculates the percentage of white pixels, which represent fibrosis. The results are saved to a CSV file, and an interpolation function is used to estimate the fibrosis percentage at any chosen depth. Finally, the code generates plots showing how the percentage of fibrotic tissue changes with biopsy depth and highlights the interpolated point in red."
   ]
  },
  {
   "cell_type": "markdown",
   "id": "c1a974bd-23c9-448c-9712-0a6591aa2802",
   "metadata": {},
   "source": [
    "### Importing Libraries:"
   ]
  },
  {
   "cell_type": "code",
   "execution_count": 1,
   "id": "86721ab6-31a8-41c5-ba35-8bc462552600",
   "metadata": {},
   "outputs": [],
   "source": [
    "from termcolor import colored\n",
    "import cv2\n",
    "import numpy as np\n",
    "import matplotlib.pyplot as plt\n",
    "from scipy.interpolate import interp1d\n",
    "import pandas as pd"
   ]
  },
  {
   "cell_type": "markdown",
   "id": "db7ddff6-4437-4d0f-b395-ef7253715383",
   "metadata": {},
   "source": [
    "### Load Image Files and Depth Data:"
   ]
  },
  {
   "cell_type": "code",
   "execution_count": 2,
   "id": "a9ddb97d-81b1-4f29-b90f-7fb31b87471b",
   "metadata": {},
   "outputs": [],
   "source": [
    "filenames = [\n",
    "    r\"/Users/jayakinley/Desktop/compbme/course_files_export/MASK_Sk658 Llobe ch010032.jpg\",\n",
    "    r\"/Users/jayakinley/Desktop/compbme/course_files_export/MASK_Sk658 Llobe ch010146.jpg\",\n",
    "    r\"/Users/jayakinley/Desktop/compbme/course_files_export/MASK_SK658 Slobe ch010110.jpg\",\n",
    "    r\"/Users/jayakinley/Desktop/compbme/course_files_export/MASK_SK658 Slobe ch010063.jpg\",\n",
    "    r\"/Users/jayakinley/Desktop/compbme/course_files_export/MASK_SK658 Slobe ch010136.jpg\",\n",
    "    r\"/Users/jayakinley/Desktop/compbme/course_files_export/MASK_SK658 Slobe ch010098.jpg\",\n",
    "    ]\n",
    "\"\"\"\n",
    "filenames = [\n",
    "    r\"/Users/Lukin/OneDrive/Desktop/UVA Stuff/Comp BME/Lung_Fibrosis_Jupyter/course_files_export/MASK_Sk658 Llobe ch010032.jpg\",\n",
    "    r\"/Users/Lukin/OneDrive/Desktop/UVA Stuff/Comp BME/Lung_Fibrosis_Jupyter/course_files_export/MASK_Sk658 Llobe ch010146.jpg\",\n",
    "    r\"/Users/Lukin/OneDrive/Desktop/UVA Stuff/Comp BME/Lung_Fibrosis_Jupyter/course_files_export/MASK_SK658 Slobe ch010110.jpg\",\n",
    "    r\"/Users/Lukin/OneDrive/Desktop/UVA Stuff/Comp BME/Lung_Fibrosis_Jupyter/course_files_export/MASK_SK658 Slobe ch010063.jpg\",\n",
    "    r\"/Users/Lukin/OneDrive/Desktop/UVA Stuff/Comp BME/Lung_Fibrosis_Jupyter/course_files_export/MASK_SK658 Slobe ch010136.jpg\",\n",
    "    r\"/Users/Lukin/OneDrive/Desktop/UVA Stuff/Comp BME/Lung_Fibrosis_Jupyter/course_files_export/MASK_SK658 Slobe ch010098.jpg\",\n",
    "    ]\n",
    "\"\"\"\n",
    "\n",
    "\n",
    "# Enter the depth of each image (in the same order that the images are listed above; you can find these in the .csv file provided to you which is tilted: \"Filenames and Depths for Students\")\n",
    "\n",
    "depths = [\n",
    "    500,\n",
    "    2000,\n",
    "    5300,\n",
    "    7400,\n",
    "    9200,\n",
    "    10000\n",
    "    ]"
   ]
  },
  {
   "cell_type": "markdown",
   "id": "4f93b204-3363-4f82-b3c6-b24c7bfc4761",
   "metadata": {},
   "source": [
    "### Read and Store Images: "
   ]
  },
  {
   "cell_type": "code",
   "execution_count": 3,
   "id": "8445369b-27a6-4ce8-9ebf-3ee3fd078493",
   "metadata": {},
   "outputs": [],
   "source": [
    "images = []\n",
    "white_counts = []\n",
    "black_counts = []\n",
    "white_percents = []\n",
    "\n",
    "# Build the list of all the images you are analyzing\n",
    "\n",
    "for filename in filenames:\n",
    "    img = cv2.imread(filename, 0)\n",
    "    images.append(img)"
   ]
  },
  {
   "cell_type": "markdown",
   "id": "23b1d01d-c9d2-49dc-a299-67465c1fea40",
   "metadata": {},
   "source": [
    "### Count Black and White Pixels:"
   ]
  },
  {
   "cell_type": "code",
   "execution_count": 4,
   "id": "d0803d58-7a44-4022-96e9-386c26e2bb84",
   "metadata": {},
   "outputs": [
    {
     "name": "stdout",
     "output_type": "stream",
     "text": [
      "\u001b[33mCounts of pixel by color in each image\u001b[0m\n",
      "\u001b[97mWhite pixels in image 0: 48667\u001b[0m\n",
      "\u001b[30mBlack pixels in image 0: 4145637\u001b[0m\n",
      "\n",
      "\u001b[97mWhite pixels in image 1: 145829\u001b[0m\n",
      "\u001b[30mBlack pixels in image 1: 4048475\u001b[0m\n",
      "\n",
      "\u001b[97mWhite pixels in image 2: 96012\u001b[0m\n",
      "\u001b[30mBlack pixels in image 2: 4098292\u001b[0m\n",
      "\n",
      "\u001b[97mWhite pixels in image 3: 120910\u001b[0m\n",
      "\u001b[30mBlack pixels in image 3: 4073394\u001b[0m\n",
      "\n",
      "\u001b[97mWhite pixels in image 4: 163638\u001b[0m\n",
      "\u001b[30mBlack pixels in image 4: 4030666\u001b[0m\n",
      "\n",
      "\u001b[97mWhite pixels in image 5: 383479\u001b[0m\n",
      "\u001b[30mBlack pixels in image 5: 3810825\u001b[0m\n",
      "\n"
     ]
    }
   ],
   "source": [
    "for x in range(len(filenames)):\n",
    "    _, binary = cv2.threshold(images[x], 127, 255, cv2.THRESH_BINARY)\n",
    "\n",
    "    white = np.sum(binary == 255)\n",
    "    black = np.sum(binary == 0)\n",
    "\n",
    "    white_counts.append(white)\n",
    "    black_counts.append(black)\n",
    "\n",
    "# Print the number of white and black pixels in each image.\n",
    "\n",
    "print(colored(\"Counts of pixel by color in each image\", \"yellow\"))\n",
    "for x in range(len(filenames)):\n",
    "    print(colored(f\"White pixels in image {x}: {white_counts[x]}\", \"white\"))\n",
    "    print(colored(f\"Black pixels in image {x}: {black_counts[x]}\", \"black\"))\n",
    "    print()"
   ]
  },
  {
   "cell_type": "markdown",
   "id": "dcf8f43a-6d36-439a-8239-695f07e35f3d",
   "metadata": {},
   "source": [
    "### Calculate Percent White Pixels"
   ]
  },
  {
   "cell_type": "code",
   "execution_count": 5,
   "id": "e668d53d-6212-4b29-85f7-c8be060e28d1",
   "metadata": {},
   "outputs": [
    {
     "name": "stdout",
     "output_type": "stream",
     "text": [
      "\u001b[33mPercent white px:\u001b[0m\n",
      "\u001b[31m/Users/jayakinley/Desktop/compbme/course_files_export/MASK_Sk658 Llobe ch010032.jpg:\u001b[0m\n",
      "1.1603116989135742% White | Depth: 500 microns\n",
      "\n",
      "\u001b[31m/Users/jayakinley/Desktop/compbme/course_files_export/MASK_Sk658 Llobe ch010146.jpg:\u001b[0m\n",
      "3.476834297180176% White | Depth: 2000 microns\n",
      "\n",
      "\u001b[31m/Users/jayakinley/Desktop/compbme/course_files_export/MASK_SK658 Slobe ch010110.jpg:\u001b[0m\n",
      "2.289104461669922% White | Depth: 5300 microns\n",
      "\n",
      "\u001b[31m/Users/jayakinley/Desktop/compbme/course_files_export/MASK_SK658 Slobe ch010063.jpg:\u001b[0m\n",
      "2.882719039916992% White | Depth: 7400 microns\n",
      "\n",
      "\u001b[31m/Users/jayakinley/Desktop/compbme/course_files_export/MASK_SK658 Slobe ch010136.jpg:\u001b[0m\n",
      "3.9014339447021484% White | Depth: 9200 microns\n",
      "\n",
      "\u001b[31m/Users/jayakinley/Desktop/compbme/course_files_export/MASK_SK658 Slobe ch010098.jpg:\u001b[0m\n",
      "9.142851829528809% White | Depth: 10000 microns\n",
      "\n"
     ]
    }
   ],
   "source": [
    "for x in range(len(filenames)):\n",
    "    white_percent = (100 * (white_counts[x] / (black_counts[x] + white_counts[x])))\n",
    "    white_percents.append(white_percent)\n",
    "\n",
    "# Print the filename (on one line in red font), and below that line print the percent white pixels and depth\n",
    "\n",
    "print(colored(\"Percent white px:\", \"yellow\"))\n",
    "for x in range(len(filenames)):\n",
    "    print(colored(f'{filenames[x]}:',\"red\"))\n",
    "    print(f'{white_percents[x]}% White | Depth: {depths[x]} microns')\n",
    "    print()"
   ]
  },
  {
   "cell_type": "markdown",
   "id": "63925dfa-54fe-411f-9b12-c707495f8661",
   "metadata": {},
   "source": [
    "### Save Results to CSV File"
   ]
  },
  {
   "cell_type": "code",
   "execution_count": 6,
   "id": "91889a93-f152-4d02-acc7-cd073c7b33c4",
   "metadata": {},
   "outputs": [
    {
     "name": "stdout",
     "output_type": "stream",
     "text": [
      "CSV file 'Percent_White_Pixels.csv' has been created.\n"
     ]
    }
   ],
   "source": [
    "import pandas as pd\n",
    "\n",
    "df = pd.DataFrame({\n",
    "    'Filenames': filenames,\n",
    "    'Depths': depths,\n",
    "    'White percents': white_percents\n",
    "})\n",
    "\n",
    "df.to_csv('Percent_White_Pixels.csv', index=False)\n",
    "\n",
    "print(\"CSV file 'Percent_White_Pixels.csv' has been created.\")\n"
   ]
  },
  {
   "cell_type": "markdown",
   "id": "e8b4a510-ca5d-487a-a7bc-a41f86311730",
   "metadata": {},
   "source": [
    "### Interpolate Fibrosis at a Chosen Depth"
   ]
  },
  {
   "cell_type": "code",
   "execution_count": 7,
   "id": "29e0b5c3-970d-4677-8997-121348573720",
   "metadata": {},
   "outputs": [
    {
     "name": "stdout",
     "output_type": "stream",
     "text": [
      "\u001b[32mThe interpolated point is at the x-coordinate 8700.0 and y-coordinate 3.6184575822618275.\u001b[0m\n"
     ]
    }
   ],
   "source": [
    "interpolate_depth = float(input(colored(\"Enter the depth at which you want to interpolate a point: \", \"yellow\")))\n",
    "\n",
    "x = depths\n",
    "y = white_percents\n",
    "\n",
    "i = interp1d(x, y, kind='linear')  # You can also use 'quadratic', 'cubic', etc.\n",
    "interpolate_point = i(interpolate_depth)\n",
    "print(colored(f'The interpolated point is at the x-coordinate {interpolate_depth} and y-coordinate {interpolate_point}.', \"green\"))\n",
    "\n",
    "depths_i = depths[:]\n",
    "depths_i.append(interpolate_depth)\n",
    "white_percents_i = white_percents[:]\n",
    "white_percents_i.append(interpolate_point)"
   ]
  },
  {
   "cell_type": "markdown",
   "id": "e4637bca-267c-4d51-a2cd-582d16487d5e",
   "metadata": {},
   "source": [
    "### Plot Fibrosis vs. Depth"
   ]
  },
  {
   "cell_type": "code",
   "execution_count": 8,
   "id": "82834d8a-2231-4dde-b1d0-ca23585548f0",
   "metadata": {},
   "outputs": [
    {
     "data": {
      "image/png": "[encoded data removed]",
      "text/plain": [
       "<Figure size 640x480 with 2 Axes>"
      ]
     },
     "metadata": {},
     "output_type": "display_data"
    }
   ],
   "source": [
    "# make two plots: one that doesn't contain the interpolated point, just the data calculated from your images, and one that also contains the interpolated point (shown in red)\n",
    "fig, axs = plt.subplots(2, 1)\n",
    "\n",
    "axs[0].scatter(depths, white_percents, marker='o', linestyle='-', color='blue')\n",
    "axs[0].set_title('Plot of depth of image vs percentage white pixels')\n",
    "axs[0].set_xlabel('depth of image')\n",
    "axs[0].set_ylabel('white pixels as a percentage of total pixels')\n",
    "axs[0].grid(True)\n",
    "\n",
    "\n",
    "axs[1].scatter(depths_i, white_percents_i, marker='o', linestyle='-', color='blue')\n",
    "axs[1].set_title('Plot of depth of image vs percentage white pixels w/ interpolated point (red)')\n",
    "axs[1].set_xlabel('depth of image')\n",
    "axs[1].set_ylabel('white pixels as a percentage of total pixels')\n",
    "axs[1].grid(True)\n",
    "axs[1].scatter(depths_i[len(depths_i)-1], white_percents_i[len(white_percents_i)-1], color='red', s=100, label='Highlighted point')\n",
    "\n",
    "\n",
    "# Adjust layout to prevent overlap\n",
    "plt.tight_layout()\n",
    "plt.show()"
   ]
  },
  {
   "cell_type": "markdown",
   "id": "5c67b6a4-ec94-4d28-b2a7-f6b860495118",
   "metadata": {},
   "source": [
    "## Verify and validate your analysis: \n",
    "The plotted “percent white pixels” data for six lung tissue images, taken at depths of 500, 2000, 5300, 7400, 9200, and 10000 microns, overall support the hypothesis that fibrosis increases with increasing tissue depth. The percent white pixels—representing fibrotic tissue—generally rose as depth increased, indicating greater collagen deposition in deeper regions of the lung.\n",
    "\n",
    "One deviation from this trend occurred at 2000 microns, where the code detected a slightly higher-than-expected proportion of white pixels (3.4768%) compared to neighboring depths. This discrepancy may be attributable to local tissue variability, differences in staining intensity, or segmentation noise during image thresholding. Despite this outlier, the overall trendline of the plotted data remained consistent with the original hypothesis, suggesting that fibrosis progressively increases deeper into the lung parenchyma.\n",
    "\n",
    "To verify the interpolation performance, we applied both linear and quadratic interpolation functions to estimate white-pixel percentages at depths where no direct image measurements existed. For instance, when interpolating at 8700 microns, the linear interpolation predicted a value of 3.618%, while the quadratic interpolation yielded 2.4899%. These values were compared against actual measurements from nearby image depths: 3.5895% at 8600 microns and 3.6032% at 8800 microns. The linear interpolation estimate differed from the upper bound of this range of expected values by only 0.0148%, confirming strong correlation with measured results. Conversely, the quadratic interpolation underestimated the fibrosis fraction by over 1%, demonstrating that the linear model better reflects the observed data trend for this dataset.\n",
    "\n",
    "For validation, we used the “Filenames and Depths for Students.csv” file to locate real images near our interpolated depth. By running our Python analysis code on this additional image, we found that the measured percent white pixels closely matched the linearly interpolated value, further confirming that the interpolation reliably estimates fibrosis between sampled depths. This comparison between predicted and experimentally measured values reinforces both the accuracy of the image analysis pipeline.\n",
    "\n",
    "Overall, both the plotted data and interpolation outputs validated our approach. The percent white pixel measurements increased with depth, as expected, and the interpolation function produced predictions that were quantitatively and visually aligned with real measurements. This provides strong evidence that our code, interpolation logic, and fibrosis-depth hypothesis are all consistent and reliable."
   ]
  },
  {
   "cell_type": "markdown",
   "id": "2736cf95-2b93-444f-90c8-d40a54fc1df1",
   "metadata": {},
   "source": [
    "## Conclusions and Ethical Implications: \n",
    "*(Think about the answer your analysis generated, draw conclusions related to your overarching question, and discuss the ethical implications of your conclusions.*"
   ]
  },
  {
   "cell_type": "markdown",
   "id": "f023b735-6efb-43ed-a03d-eb4a9cdb734e",
   "metadata": {},
   "source": [
    "## Limitations and Future Work: \n",
    "*(Think about the answer your analysis generated, draw conclusions related to your overarching question, and discuss the ethical implications of your conclusions.*"
   ]
  },
  {
   "cell_type": "markdown",
   "id": "d9295960-2404-43dc-b46f-9a6f823f1657",
   "metadata": {},
   "source": [
    "## NOTES FROM YOUR TEAM: \n",
    "\n",
    "### Current Progress\n",
    "- 10/2/2025: So far, the team has followed along with the examples outlined by Professor Pierce-Cottler, and is learning the workings of the main.py file at pace with the rest of the class. The team also set up a shared GitHub repository to collaborate.\n",
    "- 10/7/2025: First half of Disease background has been finished (Jaya's half), and the team kept following code examples from class and started writing notes on our progress.\n",
    "- 10/8/2025: The team completed other parts for Disease background section (Luke's half) and progress notes, as well as some TA questions.\n",
    "\n",
    "### Code Progress\n",
    "We used GitHub to save, update, and collaborate on our Jupyter notebook and other Module 2 files. Here's the link to our GitHub that contains our commit history of our code:\n",
    "https://github.com/Lukinator3000/LungFibrosisModule"
   ]
  },
  {
   "cell_type": "markdown",
   "id": "bd725b7f-9741-46b6-a213-9518da9201c3",
   "metadata": {},
   "source": [
    "## QUESTIONS FOR YOUR TA: \n",
    "- Since most of the code was written for us in the template, is there anything you'd like us to add or edit in the provided code, such as additional graphical studies, statistical tests, or extra documentation?\n",
    "- Besides learning idiopathic pulmonary fibrosis, what topics in this module should we target our learning on in particular? "
   ]
  }
 ],
 "metadata": {
  "kernelspec": {
   "display_name": "base",
   "language": "python",
   "name": "python3"
  },
  "language_info": {
   "codemirror_mode": {
    "name": "ipython",
    "version": 3
   },
   "file_extension": ".py",
   "mimetype": "text/x-python",
   "name": "python",
   "nbconvert_exporter": "python",
   "pygments_lexer": "ipython3",
   "version": "3.13.5"
  }
 },
 "nbformat": 4,
 "nbformat_minor": 5
}
